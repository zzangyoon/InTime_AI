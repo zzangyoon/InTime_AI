{
 "cells": [
  {
   "cell_type": "markdown",
   "id": "fcc94827",
   "metadata": {},
   "source": [
    "## FaceRecognition 학습"
   ]
  },
  {
   "cell_type": "markdown",
   "id": "dd2b63ff",
   "metadata": {},
   "source": [
    "```\n",
    "uv add cmake\n",
    "uv add dlib\n",
    "uv add face_recognition\n",
    "```"
   ]
  },
  {
   "cell_type": "code",
   "execution_count": 11,
   "id": "ad12ef15",
   "metadata": {},
   "outputs": [],
   "source": [
    "from app.services.face_recognition_service import FaceRecognition"
   ]
  },
  {
   "cell_type": "code",
   "execution_count": 12,
   "id": "4aab44a7",
   "metadata": {},
   "outputs": [
    {
     "name": "stdout",
     "output_type": "stream",
     "text": [
      "1. load train folder : ./images\n",
      "2 - 1. train file : 101001.jpg \n",
      "2 - 2. train file : 101002.jpg \n",
      "2 - 3. train file : 101003.jpg \n",
      "2 - 4. train file : 101004.jpg \n",
      "2 - 5. train file : 101005.jpg \n",
      "2 - 6. train file : 101006.jpg \n",
      "2 - 7. train file : 101007.jpg \n",
      "2 - 8. train file : 101008.jpg \n",
      "2 - 9. train file : labels.json \n",
      "2 - 9 *. name table\n",
      "3. train completed!\n",
      "encoding :  8\n",
      "labels :  ['101001', '101002', '101003', '101004', '101005', '101006', '101007', '101008']\n",
      "names :  {'101001': '박종욱', '101002': '강경란', '101003': '김나래', '101004': '이재진', '101005': '이진섭', '101006': '장찬영', '101007': '전민우', '101008': '차요준'}\n"
     ]
    }
   ],
   "source": [
    "model = FaceRecognition()\n",
    "model.fit(\"./images\")"
   ]
  },
  {
   "cell_type": "code",
   "execution_count": 14,
   "id": "f33a0607",
   "metadata": {},
   "outputs": [
    {
     "data": {
      "text/plain": [
       "<app.services.face_recognition_service.FaceRecognition at 0x236376af7d0>"
      ]
     },
     "execution_count": 14,
     "metadata": {},
     "output_type": "execute_result"
    }
   ],
   "source": [
    "model"
   ]
  },
  {
   "cell_type": "markdown",
   "id": "687c888b",
   "metadata": {},
   "source": [
    "## 모델 전체 저장"
   ]
  },
  {
   "cell_type": "code",
   "execution_count": 13,
   "id": "0ba22601",
   "metadata": {},
   "outputs": [],
   "source": [
    "import pickle\n",
    "\n",
    "with open(\"app/models/FRModel_20250918.pkl\", \"wb\") as f:\n",
    "    pickle.dump(model, f)"
   ]
  },
  {
   "cell_type": "markdown",
   "id": "0f62b4b7",
   "metadata": {},
   "source": [
    "## 모델 저장 (가중치만)"
   ]
  },
  {
   "cell_type": "code",
   "execution_count": 15,
   "id": "3a467404",
   "metadata": {},
   "outputs": [],
   "source": [
    "import pickle\n",
    "model_data = {\n",
    "    \"_encodings\": model._encodings,\n",
    "    \"_labels\": model._labels,\n",
    "    \"_names\": model._names,\n",
    "}\n",
    "\n",
    "with open(\"app/models/FRModel_20250918_state.pkl\", \"wb\") as f:\n",
    "    pickle.dump(model_data, f)"
   ]
  },
  {
   "cell_type": "markdown",
   "id": "0ec52196",
   "metadata": {},
   "source": [
    "## 추론"
   ]
  },
  {
   "cell_type": "code",
   "execution_count": 8,
   "id": "30e4b08a",
   "metadata": {},
   "outputs": [
    {
     "data": {
      "text/plain": [
       "'차요준'"
      ]
     },
     "execution_count": 8,
     "metadata": {},
     "output_type": "execute_result"
    }
   ],
   "source": [
    "model.whoami(\"./test1.jpg\")"
   ]
  },
  {
   "cell_type": "code",
   "execution_count": 10,
   "id": "088a9349",
   "metadata": {},
   "outputs": [
    {
     "data": {
      "text/plain": [
       "['101001',\n",
       " '101002',\n",
       " '101003',\n",
       " '101004',\n",
       " '101005',\n",
       " '101006',\n",
       " '101007',\n",
       " '101008']"
      ]
     },
     "execution_count": 10,
     "metadata": {},
     "output_type": "execute_result"
    }
   ],
   "source": [
    "model.labels()"
   ]
  },
  {
   "cell_type": "markdown",
   "id": "024eeb1e",
   "metadata": {},
   "source": [
    "## 모델 불러와서 추론"
   ]
  },
  {
   "cell_type": "code",
   "execution_count": 16,
   "id": "fe5b4bb2",
   "metadata": {},
   "outputs": [],
   "source": [
    "from app.core.config import RECOGNITION_MODEL\n",
    "import pickle\n",
    "\n",
    "# FaceRecognition\n",
    "with open(RECOGNITION_MODEL, \"rb\") as f:\n",
    "    face_recognition = pickle.load(f)"
   ]
  },
  {
   "cell_type": "code",
   "execution_count": 17,
   "id": "0bcc20c9",
   "metadata": {},
   "outputs": [],
   "source": [
    "from fastapi import UploadFile\n",
    "from starlette.datastructures import UploadFile as StarletteUploadFile\n",
    "from io import BytesIO\n",
    "\n",
    "async def test_whoami():\n",
    "    file_content = open(\"test1.jpg\", \"rb\").read()\n",
    "    file_like = BytesIO(file_content)\n",
    "    upload_file = UploadFile(filename=\"test1.jpg\", file=file_like)\n",
    "\n",
    "\n",
    "    fc_recog = await face_recognition.whoami(upload_file, mode=\"check_in\")\n",
    "    print(fc_recog)"
   ]
  },
  {
   "cell_type": "code",
   "execution_count": 18,
   "id": "e39b9cb6",
   "metadata": {},
   "outputs": [
    {
     "data": {
      "text/plain": [
       "<coroutine object test_whoami at 0x000002363751E5C0>"
      ]
     },
     "execution_count": 18,
     "metadata": {},
     "output_type": "execute_result"
    }
   ],
   "source": [
    "test_whoami()"
   ]
  },
  {
   "cell_type": "code",
   "execution_count": null,
   "id": "4584bdaf",
   "metadata": {},
   "outputs": [],
   "source": [
    "from fastapi import UploadFile\n",
    "from starlette.datastructures import UploadFile as StarletteUploadFile\n",
    "from tempfile import SpooledTemporaryFile\n",
    "from app.core.face_detect import face_recognition\n",
    "import cv2\n",
    "import numpy as np\n",
    "\n",
    "# test image 불러오기\n",
    "with open(\"test1.jpg\", \"rb\") as f:\n",
    "    file_bytes = f.read()\n",
    "\n",
    "# SpooledTemporaryFile로 감싸기\n",
    "temp = SpooledTemporaryFile()\n",
    "temp.write(file_bytes)\n",
    "temp.seek(0)\n",
    "\n",
    "# UploadFile 만들기\n",
    "upload_file = StarletteUploadFile(filename=\"test1.jpg\", file=temp)\n",
    "\n",
    "# async 함수 실행\n",
    "result = await face_recognition.whoami(upload_file, mode=\"check_in\")\n",
    "\n",
    "print(result)\n"
   ]
  }
 ],
 "metadata": {
  "kernelspec": {
   "display_name": "InTime_AI",
   "language": "python",
   "name": "python3"
  },
  "language_info": {
   "codemirror_mode": {
    "name": "ipython",
    "version": 3
   },
   "file_extension": ".py",
   "mimetype": "text/x-python",
   "name": "python",
   "nbconvert_exporter": "python",
   "pygments_lexer": "ipython3",
   "version": "3.11.13"
  }
 },
 "nbformat": 4,
 "nbformat_minor": 5
}
